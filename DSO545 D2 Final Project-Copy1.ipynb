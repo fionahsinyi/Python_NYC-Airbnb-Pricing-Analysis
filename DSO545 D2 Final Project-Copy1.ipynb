{
 "cells": [
  {
   "cell_type": "markdown",
   "id": "87ab0861-1fd7-432d-9c74-a85f83f81218",
   "metadata": {},
   "source": [
    "<center><b>Group D2: Exploratory Data Analysis on New York City Airbnb Listings in 2019<b><center>"
   ]
  },
  {
   "cell_type": "markdown",
   "id": "4ef766e7-701c-4418-b8fc-b224aeff9923",
   "metadata": {},
   "source": [
    "## Data Cleaning"
   ]
  },
  {
   "cell_type": "markdown",
   "id": "67007fd7-0a75-4439-86b0-be9bd0b6f0a6",
   "metadata": {},
   "source": [
    "#### IMPORT LIBRARIES AND READ THE DATASET"
   ]
  },
  {
   "cell_type": "code",
   "execution_count": null,
   "id": "83fb7f59-44d8-4e6e-9797-c1973b35c492",
   "metadata": {},
   "outputs": [],
   "source": [
    "# import libraries\n",
    "\n",
    "import pandas as pd\n",
    "import numpy as np\n",
    "import matplotlib.pyplot as plt\n",
    "import seaborn as sns\n",
    "import scipy.stats as stats\n",
    "import plotly.express as px\n",
    "import plotly.graph_objs as go\n",
    "import statsmodels.api as sm"
   ]
  },
  {
   "cell_type": "code",
   "execution_count": null,
   "id": "809639c5-a95a-44df-90e5-4ae9f9a46449",
   "metadata": {},
   "outputs": [],
   "source": [
    "# Import the dataset\n",
    "\n",
    "data = pd.read_csv('https://raw.githubusercontent.com/Exploratory-Data-Analysis/New-York-City-Airbnb-Investment-Recommendation/main/AB_NYC_2019.csv')\n",
    "data.head()"
   ]
  },
  {
   "cell_type": "markdown",
   "id": "9a99476e-0e6c-4497-a370-b05ef5899271",
   "metadata": {},
   "source": [
    "#### Data Types"
   ]
  },
  {
   "cell_type": "code",
   "execution_count": null,
   "id": "1607fa0b-e6b9-40c4-9912-abee7b4816f1",
   "metadata": {},
   "outputs": [],
   "source": [
    "# inspect datatypes\n",
    "display(data.info())"
   ]
  },
  {
   "cell_type": "code",
   "execution_count": null,
   "id": "5fa8ba58-5771-4af7-b18a-f2c1f99d98b0",
   "metadata": {},
   "outputs": [],
   "source": [
    "# change data types\n",
    "\n",
    "data.last_review = pd.to_datetime(data.last_review)\n",
    "print(data.last_review.dtype)"
   ]
  },
  {
   "cell_type": "markdown",
   "id": "ee57ce1a-8f95-4e81-9fd5-db4e88bcf8f2",
   "metadata": {},
   "source": [
    "#### Missing Values"
   ]
  },
  {
   "cell_type": "code",
   "execution_count": null,
   "id": "53293b87-280f-4578-9024-6b9ec65dde05",
   "metadata": {},
   "outputs": [],
   "source": [
    "# check count of missing values\n",
    "data.isnull().sum().sort_values(ascending = False).apply(lambda x: x if x > 0 else None).dropna()"
   ]
  },
  {
   "cell_type": "code",
   "execution_count": null,
   "id": "00d6c3ca-c83f-4524-bc91-e78f7b4064b4",
   "metadata": {},
   "outputs": [],
   "source": [
    "# check ratio of missing values\n",
    "data.isnull().mean().sort_values(ascending = False).apply(lambda x: x if x > 0 else None).dropna()"
   ]
  },
  {
   "cell_type": "code",
   "execution_count": null,
   "id": "35e9b5a2-ccd7-4e76-9089-826c93e4481f",
   "metadata": {},
   "outputs": [],
   "source": [
    "# drop missing values\n",
    "data = data.dropna(subset = ['name', 'host_name'])"
   ]
  },
  {
   "cell_type": "markdown",
   "id": "55147b33-514e-4262-99c3-75228e9884b3",
   "metadata": {},
   "source": [
    "Replace `NaN` values with `0` on the `reviews_per_month` column and leave the `last_review` the same."
   ]
  },
  {
   "cell_type": "code",
   "execution_count": null,
   "id": "484c807d-3aff-4d03-b868-c358261b268f",
   "metadata": {},
   "outputs": [],
   "source": [
    "# fill missing values\n",
    "data = data.fillna({'reviews_per_month':0})"
   ]
  },
  {
   "cell_type": "markdown",
   "id": "5a96ea07-bec3-45f1-9589-d2cba6766561",
   "metadata": {},
   "source": [
    "Validate accuracy of reviews_per_month by comparing the count of 0 reviews."
   ]
  },
  {
   "cell_type": "code",
   "execution_count": null,
   "id": "3eb98c90-dea1-4c50-a1cd-84dbf912b1a1",
   "metadata": {},
   "outputs": [],
   "source": [
    "# validate accuracy\n",
    "len(data['number_of_reviews'] == 0) == len(data['reviews_per_month'] == 0)"
   ]
  },
  {
   "cell_type": "code",
   "execution_count": null,
   "id": "bfa2fcb9-6c37-483b-85bc-2e45b5f7c977",
   "metadata": {},
   "outputs": [],
   "source": [
    "# create a list with the corresponding values\n",
    "with_review = [1 if i > 0 else 0 for i in data.reviews_per_month ]\n",
    "\n",
    "# get the index location of the column - useful for inserting a column in a df\n",
    "loc = data.columns.get_loc('number_of_reviews')\n",
    "\n",
    "# insert with_review column\n",
    "data.insert(loc, 'with_review', with_review)\n",
    "data.head()"
   ]
  },
  {
   "cell_type": "markdown",
   "id": "4de25a65-3386-4064-82e3-db0c95d93627",
   "metadata": {},
   "source": [
    "#### Further Cleaning"
   ]
  },
  {
   "cell_type": "code",
   "execution_count": null,
   "id": "9e5c75bf-30fe-41bd-a40a-f724220fe3d3",
   "metadata": {},
   "outputs": [],
   "source": [
    "# validate numerical columns\n",
    "data.describe(exclude = object)"
   ]
  },
  {
   "cell_type": "markdown",
   "id": "f02cf11f-cfc1-4a74-9954-33a10f02b5e7",
   "metadata": {},
   "source": [
    "Based on the result, there are listings with zero prices which is not right so we need to filter and drop these listings."
   ]
  },
  {
   "cell_type": "code",
   "execution_count": null,
   "id": "d5b59592-ffd0-416c-a890-62e4f18b4257",
   "metadata": {},
   "outputs": [],
   "source": [
    "#filter zero price listings\n",
    "zero_price = data['price'] == 0\n",
    "\n",
    "print(f\"No. of listing with no price: {data[zero_price].shape[0]}\")\n",
    "display(data[zero_price].head())"
   ]
  },
  {
   "cell_type": "code",
   "execution_count": null,
   "id": "ce268909-bcc0-4007-a3be-1ce902e1b1e8",
   "metadata": {},
   "outputs": [],
   "source": [
    "# drop values with 0 price\n",
    "\n",
    "data = data.query(\"price > 0\")"
   ]
  },
  {
   "cell_type": "code",
   "execution_count": null,
   "id": "9fbc5f48-e883-455b-8a62-3c7a89d9536d",
   "metadata": {},
   "outputs": [],
   "source": [
    "# separate relevant numeric columns\n",
    "numeric = ['price', 'minimum_nights', 'number_of_reviews', 'calculated_host_listings_count', 'reviews_per_month', 'availability_365']"
   ]
  },
  {
   "cell_type": "markdown",
   "id": "28a7a3d8-c5b5-4bc1-a119-b0f4ccbe0aa2",
   "metadata": {},
   "source": [
    "## Data Analysis"
   ]
  },
  {
   "cell_type": "markdown",
   "id": "c8d7aafb-2f65-44f0-923d-316fe83d9daa",
   "metadata": {},
   "source": [
    "Visualize statistical values in the dataframe for easier understanding."
   ]
  },
  {
   "cell_type": "code",
   "execution_count": null,
   "id": "877f89de-9376-4b50-98b2-dd0e98d5e3f7",
   "metadata": {},
   "outputs": [],
   "source": [
    "# melt the dataframe\n",
    "data_melt = pd.melt(data, id_vars= 'id', value_vars = numeric)\n",
    "\n",
    "# compute statistics on the melted dataframe\n",
    "data_group = data_melt.groupby('variable').agg({'value':['min', 'max', 'mean' , 'median', 'std']})\\\n",
    "            .sort_values(('value', 'mean'), ascending = False)\n",
    "data_group"
   ]
  },
  {
   "cell_type": "code",
   "execution_count": null,
   "id": "2bba23e2-fbcc-4abc-b87d-623d83b25a77",
   "metadata": {},
   "outputs": [],
   "source": [
    "# Aggregating data to find average price per room type for each neighborhood group\n",
    "price_analysis = (\n",
    "    data.groupby(['neighbourhood_group', 'room_type'])\n",
    "    .agg(avg_price=('price', 'mean'), count=('price', 'size'))\n",
    "    .reset_index())\n",
    "\n",
    "# Sorting the aggregated data by avg_price in descending order\n",
    "price_analysis = price_analysis.sort_values(by='avg_price', ascending=False)\n",
    "\n",
    "# Displaying the price analysis table using standard Python print\n",
    "print(\"Price Analysis by Room Type and Neighborhood Group:\")\n",
    "print(price_analysis)"
   ]
  },
  {
   "cell_type": "markdown",
   "id": "6d108fa8-b699-406f-b31f-20c459218d4b",
   "metadata": {},
   "source": [
    "## 1. Proportions of Listings by Neighborhood Groups\n"
   ]
  },
  {
   "cell_type": "code",
   "execution_count": null,
   "id": "dfff7d6e-3e7e-4f6f-8888-f06fdecbfa6f",
   "metadata": {},
   "outputs": [],
   "source": [
    "# Group data by neighborhood group and calculate proportions\n",
    "neighborhood_proportion = data.groupby('neighbourhood_group').size().reset_index(name='count')\n",
    "\n",
    "# Define custom colors for neighborhoods\n",
    "custom_colors = {\n",
    "    'Manhattan': 'red',\n",
    "    'Brooklyn': 'blue',\n",
    "    'Queens': 'green',\n",
    "    'Bronx': 'orange',\n",
    "    'Staten Island': 'purple'}\n",
    "\n",
    "# Create the pie chart\n",
    "neighborhood_pie = px.pie(\n",
    "    neighborhood_proportion,\n",
    "    names='neighbourhood_group',\n",
    "    values='count',\n",
    "    color='neighbourhood_group',\n",
    "    color_discrete_map=custom_colors,  \n",
    "    title='Proportions of Listings by Neighborhood Groups',\n",
    "    hole=0.4)\n",
    "\n",
    "# Show the pie chart\n",
    "neighborhood_pie.show()"
   ]
  },
  {
   "cell_type": "markdown",
   "id": "f35accae-584b-4404-bcab-514bb1ba4035",
   "metadata": {},
   "source": [
    "## 2. Price Distribution by Room Type"
   ]
  },
  {
   "cell_type": "code",
   "execution_count": null,
   "id": "be10c568-9b6e-4e29-b9bc-c2fd5c313378",
   "metadata": {},
   "outputs": [],
   "source": [
    "plt.figure(figsize=(10, 6))\n",
    "sns.boxplot(data, x='room_type', y='price', hue='room_type', palette='Set3', dodge=False)\n",
    "plt.legend([], [], frameon=False) \n",
    "plt.title('Price Distribution by Room Type')\n",
    "plt.xlabel('Room Type')\n",
    "plt.ylabel('Price')\n",
    "plt.yscale('log')  \n",
    "plt.show()"
   ]
  },
  {
   "cell_type": "markdown",
   "id": "c780fc7a-b4a1-4def-aaf5-c0b53b6598b0",
   "metadata": {},
   "source": [
    "## 3. Average Price by Neighborhood Group and Room Type"
   ]
  },
  {
   "cell_type": "code",
   "execution_count": null,
   "id": "8890a86d-56c7-4e6c-a075-0e5078b6218d",
   "metadata": {},
   "outputs": [],
   "source": [
    "avg_price_plot = px.bar(\n",
    "    price_analysis,\n",
    "    x='neighbourhood_group',\n",
    "    y='avg_price',\n",
    "    color='room_type',\n",
    "    barmode='group',\n",
    "    title='Average Price by Neighborhood Group and Room Type',\n",
    "    labels={'avg_price': 'Average Price ($)', 'neighbourhood_group': 'Neighborhood Group'})\n",
    "avg_price_plot.update_layout(\n",
    "    xaxis=dict(showgrid=False),  \n",
    "    yaxis=dict(showgrid=False, range=[0, 300]), \n",
    "    title=dict(x=0.5))\n",
    "avg_price_plot.show()"
   ]
  },
  {
   "cell_type": "markdown",
   "id": "c109e530-3d49-452d-a177-212299639bac",
   "metadata": {},
   "source": [
    "## 4. Scatter Mapbox: Price and Mimimum Nights Across Neighborhoods"
   ]
  },
  {
   "cell_type": "code",
   "execution_count": null,
   "id": "dc742c3e-f36c-4f03-b944-e1eb88c735a6",
   "metadata": {},
   "outputs": [],
   "source": [
    "fig2 = px.scatter_mapbox(\n",
    "    data, lat='latitude', \n",
    "    lon='longitude', \n",
    "    color='price', size='minimum_nights', \n",
    "    hover_name='name', \n",
    "    hover_data={'price': True, 'room_type': True, 'neighbourhood_group': True}, \n",
    "    color_continuous_scale=\"Viridis\", range_color=[50, 700], size_max=10, zoom=10, \n",
    "    mapbox_style=\"carto-positron\", opacity=0.6, title=\"Scatter Mapbox: Price and Minimum Nights\", height=800) \n",
    "\n",
    "fig2.show()"
   ]
  },
  {
   "cell_type": "markdown",
   "id": "e7c8287a-9abf-4646-94d9-68e27acc0d27",
   "metadata": {},
   "source": [
    "## 5. Count of Listings by Room Type Across Neighborhood Groups"
   ]
  },
  {
   "cell_type": "code",
   "execution_count": null,
   "id": "15d9f6fa-8ee7-4446-b2c1-61512a32c803",
   "metadata": {},
   "outputs": [],
   "source": [
    "count_plot = px.bar(\n",
    "    price_analysis,\n",
    "    x='neighbourhood_group',\n",
    "    y='count',\n",
    "    color='room_type',\n",
    "    barmode='group',\n",
    "    title='Count of Listings by Neighborhood Group and Room Type',\n",
    "    labels={'count': 'Number of Listings', 'neighbourhood_group': 'Neighborhood Group'},\n",
    "    text='count')\n",
    "count_plot.update_layout(\n",
    "    xaxis=dict(showgrid=False),  \n",
    "    yaxis=dict(showgrid=False, range=[0, 15000]), \n",
    "    title=dict(x=0.5))\n",
    "count_plot.update_traces(\n",
    "    texttemplate='%{text}',  \n",
    "    textposition='outside')\n",
    "count_plot.show()"
   ]
  },
  {
   "cell_type": "markdown",
   "id": "ae2a8288-6554-4c9b-a9a2-f506b10ac232",
   "metadata": {},
   "source": [
    "## 6. Price Variation Across Neighborhoods"
   ]
  },
  {
   "cell_type": "code",
   "execution_count": null,
   "id": "b87ea3c7-c709-49a4-b9dc-2dbe62140afb",
   "metadata": {},
   "outputs": [],
   "source": [
    "neighborhood_price_plot = px.box(\n",
    "    data,\n",
    "    x='neighbourhood_group',\n",
    "    y='price',\n",
    "    color='neighbourhood_group',\n",
    "    title='Price Variation Across Neighborhood Groups',\n",
    "    labels={'price': 'Price ($)', 'neighbourhood_group': 'Neighborhood Group'},\n",
    "    log_y=True)\n",
    "\n",
    "neighborhood_price_plot.update_layout(\n",
    "    xaxis=dict(showgrid=False),  \n",
    "    yaxis=dict(showgrid=False), \n",
    "    title=dict(x=0.5))\n",
    "\n",
    "neighborhood_price_plot.show()"
   ]
  },
  {
   "cell_type": "markdown",
   "id": "2b2a1fd3-3636-4c9e-9649-33161cd1f313",
   "metadata": {},
   "source": [
    "## 7. Correlation Heatmap of Numerical Features"
   ]
  },
  {
   "cell_type": "code",
   "execution_count": null,
   "id": "e9bd53d5-7f82-4b84-8b00-db148373425d",
   "metadata": {},
   "outputs": [],
   "source": [
    "numerical_columns = ['price', 'minimum_nights', 'number_of_reviews', 'calculated_host_listings_count', 'reviews_per_month', 'availability_365']\n",
    "correlation_matrix = data[numerical_columns].corr()\n",
    "\n",
    "plt.figure(figsize=(8, 6))\n",
    "sns.heatmap(correlation_matrix, annot=True, cmap='coolwarm', fmt='.2f')\n",
    "plt.title('Correlation Heatmap of Numerical Features')\n",
    "plt.show()"
   ]
  },
  {
   "cell_type": "markdown",
   "id": "8f9ec4e0-7042-4c7d-bcd3-7d7b2ff1e563",
   "metadata": {},
   "source": [
    "## 8. Scatter Plot: Price vs Availability for Different Room Types"
   ]
  },
  {
   "cell_type": "code",
   "execution_count": null,
   "id": "f84aa68d-8b8e-4e83-a380-98aa101945e7",
   "metadata": {},
   "outputs": [],
   "source": [
    "scatter_plot = px.scatter(\n",
    "    data,\n",
    "    x='availability_365',\n",
    "    y='price',\n",
    "    color='room_type',\n",
    "    size='number_of_reviews',\n",
    "    title='Price vs Availability for Different Room Types',\n",
    "    labels={'availability_365': 'Availability (Days)', 'price': 'Price ($)'},\n",
    "    log_y=True,\n",
    ")\n",
    "scatter_plot.show()"
   ]
  },
  {
   "cell_type": "markdown",
   "id": "929fa861-f7ea-4f2e-a6b3-3e53a25a9b74",
   "metadata": {},
   "source": [
    "## 9. Regression Analysis"
   ]
  },
  {
   "cell_type": "markdown",
   "id": "f31880f7-5941-409a-b058-d73abb5a1548",
   "metadata": {},
   "source": [
    "### 9.1 Regression Analysis in all neighbourhood"
   ]
  },
  {
   "cell_type": "code",
   "execution_count": null,
   "id": "d65d2339-2a4c-4d49-a21e-5ca7f1d7926b",
   "metadata": {},
   "outputs": [],
   "source": [
    "# Select variables\n",
    "data = data[data['price'] <= 1000] # remove outliers\n",
    "X = data[['neighbourhood_group', 'room_type', 'reviews_per_month', 'availability_365','calculated_host_listings_count']]\n",
    "y = data['price']\n",
    "X = pd.get_dummies(X, columns=['neighbourhood_group', 'room_type'], drop_first=True)\n",
    "X = X.astype(float) \n",
    "y = y.astype(float)\n",
    " \n",
    "X = sm.add_constant(X)\n",
    "X = X.dropna()  \n",
    " \n",
    "y = data['price'].loc[X.index] \n",
    "model = sm.OLS(y, X).fit()\n",
    "print(model.summary())"
   ]
  },
  {
   "cell_type": "code",
   "execution_count": null,
   "id": "11c06acc-7895-4a51-9402-9615015f5e63",
   "metadata": {},
   "outputs": [],
   "source": [
    "numerical_vars = ['reviews_per_month', 'availability_365', 'calculated_host_listings_count']\n",
    "dummy_vars = ['neighbourhood_group', 'room_type']\n",
    "\n",
    "# color setting\n",
    "color_mapping_neighbourhood = {\n",
    "    'Brooklyn': '#636EFA',      \n",
    "    'Manhattan': '#EF553B',     \n",
    "    'Queens': '#00CC96',        \n",
    "    'Staten Island': '#AB63FA', \n",
    "    'Bronx': '#FFA15A'          }\n",
    "\n",
    "color_mapping_room_type = {'Entire home/apt': '#636EFA', 'Private room': '#EF553B', 'Shared room': '#00CC96'}\n",
    "\n",
    "# set the graphs\n",
    "fig, axes = plt.subplots(2, max(len(numerical_vars), len(dummy_vars)), figsize=(5 * max(len(numerical_vars), len(dummy_vars)), 10))\n",
    "\n",
    "# 1st row: numerical\n",
    "for i, var in enumerate(numerical_vars):\n",
    "    sns.regplot(x=data[var], y=data['price'], scatter_kws={'s':10}, line_kws={'color':'red'}, ax=axes[0, i])\n",
    "    axes[0, i].set_title(f'{var} vs Price')\n",
    "    axes[0, i].set_xlabel(var)\n",
    "    axes[0, i].set_ylabel('Price')\n",
    "\n",
    "# 2nd row：Dummy \n",
    "for i, var in enumerate(dummy_vars):\n",
    "    if var == 'neighbourhood_group':\n",
    "        sns.boxplot(x=data[var], y=data['price'], ax=axes[1, i], palette=color_mapping_neighbourhood)\n",
    "    elif var == 'room_type':\n",
    "        sns.boxplot(x=data[var], y=data['price'], ax=axes[1, i], palette=color_mapping_room_type)\n",
    "    axes[1, i].set_title(f'{var} (Dummy) vs Price')\n",
    "    axes[1, i].set_xlabel(var)\n",
    "    axes[1, i].set_ylabel('Price')\n",
    "\n",
    "# hide the redundant graphs\n",
    "if len(numerical_vars) < len(dummy_vars):\n",
    "    for j in range(len(numerical_vars), len(dummy_vars)):\n",
    "        fig.delaxes(axes[0, j])\n",
    "elif len(dummy_vars) < len(numerical_vars):\n",
    "    for j in range(len(dummy_vars), len(numerical_vars)):\n",
    "        fig.delaxes(axes[1, j])\n",
    "\n",
    "plt.tight_layout()\n",
    "plt.show()"
   ]
  },
  {
   "cell_type": "markdown",
   "id": "0743e6dc-4b15-408e-a5c3-5818f9aaede5",
   "metadata": {},
   "source": [
    "### 9.2 Regression Analysis in different neighbourhood"
   ]
  },
  {
   "cell_type": "markdown",
   "id": "52ac8e39-0f2e-46bc-aa44-bf544ca50019",
   "metadata": {},
   "source": [
    "#### A. Regression in Brooklyn"
   ]
  },
  {
   "cell_type": "code",
   "execution_count": null,
   "id": "933da00d-6ed1-42bb-a87e-b845d2684e17",
   "metadata": {},
   "outputs": [],
   "source": [
    "Brooklyn = data[data['neighbourhood_group']=='Brooklyn']\n",
    "\n",
    "X = Brooklyn[['room_type', 'reviews_per_month', 'availability_365','calculated_host_listings_count']]\n",
    "y = Brooklyn['price']\n",
    "X = pd.get_dummies(X, columns=['room_type'], drop_first=True)\n",
    "X = X.astype(float) \n",
    "y = y.astype(float)\n",
    " \n",
    "X = sm.add_constant(X)\n",
    "X = X.dropna()  \n",
    " \n",
    "y = data['price'].loc[X.index] \n",
    "model = sm.OLS(y, X).fit()\n",
    "print(model.summary())"
   ]
  },
  {
   "cell_type": "code",
   "execution_count": null,
   "id": "3886f216-f7cf-42ed-8668-9821e7f4c0b7",
   "metadata": {},
   "outputs": [],
   "source": [
    "numerical_vars = ['reviews_per_month', 'availability_365', 'calculated_host_listings_count']\n",
    "dummy_var = 'room_type' \n",
    "all_vars = numerical_vars + [dummy_var]\n",
    "\n",
    "\n",
    "fig, axes = plt.subplots(1, len(all_vars), figsize=(4 * len(all_vars), 4))\n",
    "color_mapping_room_type = {'Entire home/apt': '#636EFA', 'Private room': '#EF553B', 'Shared room': '#00CC96'}\n",
    "\n",
    "# Draw\n",
    "for i, var in enumerate(all_vars):\n",
    "    if var in numerical_vars:\n",
    "        # numerical\n",
    "        sns.regplot(x=X[var], y=y, scatter_kws={'s':10}, line_kws={'color':'red'}, ax=axes[i])\n",
    "        axes[i].set_title(f'{var} vs Price')\n",
    "        axes[i].set_xlabel(var)\n",
    "        axes[i].set_ylabel('Price')\n",
    "    elif var == dummy_var:\n",
    "        # Dummy \n",
    "        sns.boxplot(\n",
    "            x=Brooklyn[var], \n",
    "            y=Brooklyn['price'], \n",
    "            ax=axes[i], \n",
    "            palette=color_mapping_room_type, \n",
    "            hue=Brooklyn[var]  \n",
    "        )\n",
    "        axes[i].set_title(f'Room_Type vs Price')\n",
    "        axes[i].set_xlabel(var)\n",
    "        axes[i].set_ylabel('Price')\n",
    "\n",
    "plt.tight_layout()\n",
    "plt.show()"
   ]
  },
  {
   "cell_type": "markdown",
   "id": "355e023f-7f5e-410b-b97a-5c043c52ff73",
   "metadata": {},
   "source": [
    "#### B. Regression in Manhattan"
   ]
  },
  {
   "cell_type": "code",
   "execution_count": null,
   "id": "a38c061c-f87a-4d03-bdb8-644aaf9f0ae9",
   "metadata": {},
   "outputs": [],
   "source": [
    "Manhattan = data[data['neighbourhood_group']=='Manhattan']\n",
    "\n",
    "X = Manhattan[['room_type', 'reviews_per_month', 'availability_365','calculated_host_listings_count']]\n",
    "y = Manhattan['price']\n",
    "X = pd.get_dummies(X, columns=['room_type'], drop_first=True)\n",
    "X = X.astype(float) \n",
    "y = y.astype(float)\n",
    " \n",
    "X = sm.add_constant(X)\n",
    "X = X.dropna()  \n",
    " \n",
    "y = data['price'].loc[X.index] \n",
    "model = sm.OLS(y, X).fit()\n",
    "print(model.summary())"
   ]
  },
  {
   "cell_type": "code",
   "execution_count": null,
   "id": "6fb9081c-7675-4a4e-a045-dcdfb67b9a07",
   "metadata": {},
   "outputs": [],
   "source": [
    "numerical_vars = ['reviews_per_month', 'availability_365', 'calculated_host_listings_count']\n",
    "dummy_var = 'room_type' \n",
    "all_vars = numerical_vars + [dummy_var]\n",
    "\n",
    "\n",
    "fig, axes = plt.subplots(1, len(all_vars), figsize=(4 * len(all_vars), 4))\n",
    "color_mapping_room_type = {'Entire home/apt': '#636EFA', 'Private room': '#EF553B', 'Shared room': '#00CC96'}\n",
    "\n",
    "# Draw\n",
    "for i, var in enumerate(all_vars):\n",
    "    if var in numerical_vars:\n",
    "        # numerical\n",
    "        sns.regplot(x=X[var], y=y, scatter_kws={'s':10}, line_kws={'color':'red'}, ax=axes[i])\n",
    "        axes[i].set_title(f'{var} vs Price')\n",
    "        axes[i].set_xlabel(var)\n",
    "        axes[i].set_ylabel('Price')\n",
    "    elif var == dummy_var:\n",
    "        # Dummy \n",
    "        sns.boxplot(\n",
    "            x=Manhattan[var], \n",
    "            y=Manhattan['price'], \n",
    "            ax=axes[i], \n",
    "            palette=color_mapping_room_type, \n",
    "            hue=Manhattan[var]  \n",
    "        )\n",
    "        axes[i].set_title(f'Room_Type vs Price')\n",
    "        axes[i].set_xlabel(var)\n",
    "        axes[i].set_ylabel('Price')\n",
    "\n",
    "plt.tight_layout()\n",
    "plt.show()"
   ]
  },
  {
   "cell_type": "markdown",
   "id": "723a72ba-d168-43f8-92e4-ea6926995445",
   "metadata": {},
   "source": [
    "### C. Regression in Queens"
   ]
  },
  {
   "cell_type": "code",
   "execution_count": null,
   "id": "0e09b5bc-ab8b-4e30-aa0c-c4070cf0d419",
   "metadata": {},
   "outputs": [],
   "source": [
    "Queens = data[data['neighbourhood_group']=='Queens']\n",
    "\n",
    "X = Queens[['room_type', 'reviews_per_month', 'availability_365','calculated_host_listings_count']]\n",
    "y = Queens['price']\n",
    "X = pd.get_dummies(X, columns=['room_type'], drop_first=True)\n",
    "X = X.astype(float) \n",
    "y = y.astype(float)\n",
    " \n",
    "X = sm.add_constant(X)\n",
    "X = X.dropna()  \n",
    " \n",
    "y = data['price'].loc[X.index] \n",
    "model = sm.OLS(y, X).fit()\n",
    "print(model.summary())"
   ]
  },
  {
   "cell_type": "code",
   "execution_count": null,
   "id": "9dbb63e4-f31b-47b5-a21c-8b939dc8060f",
   "metadata": {},
   "outputs": [],
   "source": [
    "numerical_vars = ['reviews_per_month', 'availability_365', 'calculated_host_listings_count']\n",
    "dummy_var = 'room_type' \n",
    "all_vars = numerical_vars + [dummy_var]\n",
    "\n",
    "\n",
    "fig, axes = plt.subplots(1, len(all_vars), figsize=(4 * len(all_vars), 4))\n",
    "color_mapping_room_type = {'Entire home/apt': '#636EFA', 'Private room': '#EF553B', 'Shared room': '#00CC96'}\n",
    "\n",
    "# Draw\n",
    "for i, var in enumerate(all_vars):\n",
    "    if var in numerical_vars:\n",
    "        # numerical\n",
    "        sns.regplot(x=X[var], y=y, scatter_kws={'s':10}, line_kws={'color':'red'}, ax=axes[i])\n",
    "        axes[i].set_title(f'{var} vs Price')\n",
    "        axes[i].set_xlabel(var)\n",
    "        axes[i].set_ylabel('Price')\n",
    "    elif var == dummy_var:\n",
    "        # Dummy \n",
    "        sns.boxplot(\n",
    "            x=Queens[var], \n",
    "            y=Queens['price'], \n",
    "            ax=axes[i], \n",
    "            palette=color_mapping_room_type, \n",
    "            hue=Queens[var] \n",
    "        )\n",
    "        axes[i].set_title(f'Room_Type vs Price')\n",
    "        axes[i].set_xlabel(var)\n",
    "        axes[i].set_ylabel('Price')\n",
    "\n",
    "plt.tight_layout()\n",
    "plt.show()"
   ]
  },
  {
   "cell_type": "markdown",
   "id": "85b57e29-b401-4404-9d8e-a8a3f08f57b7",
   "metadata": {},
   "source": [
    "#### D. Regression in Staten Island"
   ]
  },
  {
   "cell_type": "code",
   "execution_count": null,
   "id": "8dfa24f1-d563-4c91-940f-ccb5413dbcd4",
   "metadata": {},
   "outputs": [],
   "source": [
    "Staten_Island = data[data['neighbourhood_group']=='Staten Island']\n",
    "\n",
    "X = Staten_Island[['room_type', 'reviews_per_month', 'availability_365','calculated_host_listings_count']]\n",
    "y = Staten_Island['price']\n",
    "X = pd.get_dummies(X, columns=['room_type'], drop_first=True)\n",
    "X = X.astype(float) \n",
    "y = y.astype(float)\n",
    " \n",
    "X = sm.add_constant(X)\n",
    "X = X.dropna()  \n",
    " \n",
    "y = data['price'].loc[X.index] \n",
    "model = sm.OLS(y, X).fit()\n",
    "print(model.summary())"
   ]
  },
  {
   "cell_type": "code",
   "execution_count": null,
   "id": "a65d104e-44fb-4672-a051-367083dacdb1",
   "metadata": {},
   "outputs": [],
   "source": [
    "numerical_vars = ['reviews_per_month', 'availability_365', 'calculated_host_listings_count']\n",
    "dummy_var = 'room_type' \n",
    "all_vars = numerical_vars + [dummy_var]\n",
    "\n",
    "\n",
    "fig, axes = plt.subplots(1, len(all_vars), figsize=(4 * len(all_vars), 4))\n",
    "color_mapping_room_type = {'Entire home/apt': '#636EFA', 'Private room': '#EF553B', 'Shared room': '#00CC96'}\n",
    "\n",
    "# Draw\n",
    "for i, var in enumerate(all_vars):\n",
    "    if var in numerical_vars:\n",
    "        # numerical\n",
    "        sns.regplot(x=X[var], y=y, scatter_kws={'s':10}, line_kws={'color':'red'}, ax=axes[i])\n",
    "        axes[i].set_title(f'{var} vs Price')\n",
    "        axes[i].set_xlabel(var)\n",
    "        axes[i].set_ylabel('Price')\n",
    "    elif var == dummy_var:\n",
    "        # Dummy \n",
    "        sns.boxplot(\n",
    "            x=Staten_Island[var], \n",
    "            y=Staten_Island['price'], \n",
    "            ax=axes[i], \n",
    "            palette=color_mapping_room_type, \n",
    "            hue=Staten_Island[var] \n",
    "        )\n",
    "        axes[i].set_title(f'Room_Type vs Price')\n",
    "        axes[i].set_xlabel(var)\n",
    "        axes[i].set_ylabel('Price')\n",
    "\n",
    "plt.tight_layout()\n",
    "plt.show()"
   ]
  },
  {
   "cell_type": "markdown",
   "id": "8a1b519b-2773-4e5f-a40a-dfac7cb7cba2",
   "metadata": {},
   "source": [
    "#### E. Regression in Bronx"
   ]
  },
  {
   "cell_type": "code",
   "execution_count": null,
   "id": "7f385fa4-c21f-4804-9198-5295d556e941",
   "metadata": {},
   "outputs": [],
   "source": [
    "Bronx = data[data['neighbourhood_group']=='Bronx']\n",
    "\n",
    "X = Bronx[['room_type', 'reviews_per_month', 'availability_365','calculated_host_listings_count']]\n",
    "y = Bronx['price']\n",
    "X = pd.get_dummies(X, columns=['room_type'], drop_first=True)\n",
    "X = X.astype(float) \n",
    "y = y.astype(float)\n",
    " \n",
    "X = sm.add_constant(X)\n",
    "X = X.dropna()  \n",
    " \n",
    "y = data['price'].loc[X.index] \n",
    "model = sm.OLS(y, X).fit()\n",
    "print(model.summary())"
   ]
  },
  {
   "cell_type": "code",
   "execution_count": null,
   "id": "d4334fc7-146b-46a5-9adb-e8798b4ccbd1",
   "metadata": {},
   "outputs": [],
   "source": [
    "numerical_vars = ['reviews_per_month', 'availability_365', 'calculated_host_listings_count']\n",
    "dummy_var = 'room_type' \n",
    "all_vars = numerical_vars + [dummy_var]\n",
    "\n",
    "\n",
    "fig, axes = plt.subplots(1, len(all_vars), figsize=(4 * len(all_vars), 4))\n",
    "color_mapping_room_type = {'Entire home/apt': '#636EFA', 'Private room': '#EF553B', 'Shared room': '#00CC96'}\n",
    "\n",
    "# Draw\n",
    "for i, var in enumerate(all_vars):\n",
    "    if var in numerical_vars:\n",
    "        # numerical\n",
    "        sns.regplot(x=X[var], y=y, scatter_kws={'s':10}, line_kws={'color':'red'}, ax=axes[i])\n",
    "        axes[i].set_title(f'{var} vs Price')\n",
    "        axes[i].set_xlabel(var)\n",
    "        axes[i].set_ylabel('Price')\n",
    "    elif var == dummy_var:\n",
    "        # Dummy \n",
    "        sns.boxplot(\n",
    "            x=Bronx[var], \n",
    "            y=Bronx['price'], \n",
    "            ax=axes[i], \n",
    "            palette=color_mapping_room_type, \n",
    "            hue=Bronx[var] \n",
    "        )\n",
    "        axes[i].set_title(f'Room_Type vs Price')\n",
    "        axes[i].set_xlabel(var)\n",
    "        axes[i].set_ylabel('Price')\n",
    "\n",
    "plt.tight_layout()\n",
    "plt.show()"
   ]
  },
  {
   "cell_type": "markdown",
   "id": "a06f9c2b-0ed3-431c-8ddc-6be913f0c489",
   "metadata": {},
   "source": [
    "### 9.3 Compare regression in different neighbourhood"
   ]
  },
  {
   "cell_type": "markdown",
   "id": "93302098-f492-43f6-aab3-4f464fb9faf6",
   "metadata": {},
   "source": [
    "#### A. reviews_per_month vs Price in different neighbourhood"
   ]
  },
  {
   "cell_type": "code",
   "execution_count": null,
   "id": "113b1d94-8384-401d-86a9-ea090d7883c3",
   "metadata": {},
   "outputs": [],
   "source": [
    "neighborhoods = data['neighbourhood_group'].unique()\n",
    "fig, axes = plt.subplots(1, len(neighborhoods), figsize=(6 * len(neighborhoods), 5), sharey=True)\n",
    "\n",
    "for i, neighborhood in enumerate(neighborhoods):\n",
    "    subset = data[data['neighbourhood_group'] == neighborhood] \n",
    "    sns.regplot(\n",
    "        x=subset['reviews_per_month'], \n",
    "        y=subset['price'], \n",
    "        scatter_kws={'s':10, 'color': color_mapping_neighbourhood[neighborhood]},  \n",
    "        line_kws={'color':'red'}, \n",
    "        ax=axes[i]\n",
    "    )\n",
    "    axes[i].set_title(f'{neighborhood}: reviews_per_month vs Price')\n",
    "    axes[i].set_xlabel('Reviews per Month')\n",
    "    axes[i].set_ylabel('Price' if i == 0 else \"\") \n",
    "\n",
    "plt.tight_layout()\n",
    "plt.show()"
   ]
  },
  {
   "cell_type": "code",
   "execution_count": null,
   "id": "b5289131-0dea-43d8-9aaf-df82ba801f89",
   "metadata": {},
   "outputs": [],
   "source": [
    "import plotly.express as px\n",
    "\n",
    "fig = px.scatter(\n",
    "    data, \n",
    "    x='reviews_per_month', \n",
    "    y='price', \n",
    "    color='neighbourhood_group', \n",
    "    color_discrete_map=color_mapping_neighbourhood,\n",
    "    title='Reviews per Month vs Price by Neighborhood',\n",
    "    trendline='ols',  # add the regression line\n",
    "    labels={'reviews_per_month': 'Reviews per Month', 'price': 'Price', 'neighbourhood_group': 'Neighborhood Group'},\n",
    "    opacity=0.1\n",
    ")\n",
    "\n",
    "fig.update_traces(marker=dict(size=6), selector=dict(mode='markers'))\n",
    "\n",
    "fig.update_layout(\n",
    "    xaxis_title=\"Reviews per Month\",\n",
    "    yaxis_title=\"Price\",\n",
    "    legend_title=\"Neighborhood Group\"\n",
    ")\n",
    "\n",
    "fig.show()"
   ]
  },
  {
   "cell_type": "markdown",
   "id": "5794ca67-ff46-40bc-9283-a4b33ea0acce",
   "metadata": {},
   "source": [
    "#### B. availability_365 vs Price in different neighbourhood"
   ]
  },
  {
   "cell_type": "code",
   "execution_count": null,
   "id": "3b70f170-c66e-4dde-8272-99527aa9eab4",
   "metadata": {},
   "outputs": [],
   "source": [
    "fig, axes = plt.subplots(1, len(neighborhoods), figsize=(6 * len(neighborhoods), 5), sharey=True)\n",
    "for i, neighborhood in enumerate(neighborhoods):\n",
    "    subset = data[data['neighbourhood_group'] == neighborhood]\n",
    "    sns.regplot(\n",
    "        x=subset['availability_365'], \n",
    "        y=subset['price'], \n",
    "        scatter_kws={'s':10, 'color': color_mapping_neighbourhood[neighborhood]}, \n",
    "        line_kws={'color':'red'}, \n",
    "        ax=axes[i]\n",
    "    )\n",
    "    axes[i].set_title(f'{neighborhood}: availability_365 vs Price')\n",
    "    axes[i].set_xlabel('Availability (365)')\n",
    "    axes[i].set_ylabel('Price' if i == 0 else \"\") \n",
    "\n",
    "plt.tight_layout()\n",
    "plt.show()"
   ]
  },
  {
   "cell_type": "code",
   "execution_count": null,
   "id": "cccfbc02-0130-4674-8210-5f28964762bb",
   "metadata": {},
   "outputs": [],
   "source": [
    "fig = px.scatter(\n",
    "    data, \n",
    "    x='availability_365', \n",
    "    y='price', \n",
    "    color='neighbourhood_group', \n",
    "    color_discrete_map=color_mapping_neighbourhood,\n",
    "    title='Availability (365) vs Price by Neighborhood',\n",
    "    trendline='ols', \n",
    "    labels={'availability_365': 'Availability (365)', 'price': 'Price', 'neighbourhood_group': 'Neighborhood Group'},\n",
    "    opacity=0.1\n",
    ")\n",
    "\n",
    "fig.update_traces(marker=dict(size=6), selector=dict(mode='markers'))\n",
    "\n",
    "fig.update_layout(\n",
    "    xaxis_title=\"Availability (365)\",\n",
    "    yaxis_title=\"Price\",\n",
    "    legend_title=\"Neighborhood Group\"\n",
    ")\n",
    "\n",
    "fig.show()"
   ]
  },
  {
   "cell_type": "markdown",
   "id": "a1eb84ca-31d5-407d-bd4d-bd141a25ac9a",
   "metadata": {},
   "source": [
    "#### C. calculated_host_listings_count vs Price in different neighbourhood"
   ]
  },
  {
   "cell_type": "code",
   "execution_count": null,
   "id": "52ea61a4-1a89-4cc6-b2c6-e8c3b75cc264",
   "metadata": {},
   "outputs": [],
   "source": [
    "fig, axes = plt.subplots(1, len(neighborhoods), figsize=(6 * len(neighborhoods), 5), sharey=True)\n",
    "\n",
    "for i, neighborhood in enumerate(neighborhoods):\n",
    "    subset = data[data['neighbourhood_group'] == neighborhood]\n",
    "    sns.regplot(\n",
    "        x=subset['calculated_host_listings_count'], \n",
    "        y=subset['price'], \n",
    "        scatter_kws={'s':10, 'color': color_mapping_neighbourhood[neighborhood]}, \n",
    "        line_kws={'color':'red'}, \n",
    "        ax=axes[i]\n",
    "    )\n",
    "    axes[i].set_title(f'{neighborhood}: calculated_host_listings_count vs Price')\n",
    "    axes[i].set_xlabel('Host Listings Count')\n",
    "    axes[i].set_ylabel('Price' if i == 0 else \"\")  \n",
    "\n",
    "plt.tight_layout()\n",
    "plt.show()"
   ]
  },
  {
   "cell_type": "code",
   "execution_count": null,
   "id": "60f67d8c-65cb-4e36-a1fb-6694fb9b9c58",
   "metadata": {},
   "outputs": [],
   "source": [
    "fig = px.scatter(\n",
    "    data, \n",
    "    x='calculated_host_listings_count', \n",
    "    y='price', \n",
    "    color='neighbourhood_group', \n",
    "    color_discrete_map=color_mapping_neighbourhood,\n",
    "    title='Calculated Host Listings Count vs Price by Neighborhood',\n",
    "    trendline='ols',  \n",
    "    labels={'calculated_host_listings_count': 'Host Listings Count', 'price': 'Price', 'neighbourhood_group': 'Neighborhood Group'},\n",
    "    opacity=0.1\n",
    ")\n",
    "\n",
    "fig.update_traces(marker=dict(size=6), selector=dict(mode='markers'))\n",
    "\n",
    "fig.update_layout(\n",
    "    xaxis_title=\"Host Listings Count\",\n",
    "    yaxis_title=\"Price\",\n",
    "    legend_title=\"Neighborhood Group\"\n",
    ")\n",
    "\n",
    "fig.show()"
   ]
  },
  {
   "cell_type": "markdown",
   "id": "a521c436-58c0-417b-a79e-ca2a14ab0f8d",
   "metadata": {},
   "source": [
    "#### D. room_type vs Price in different neighbourhood"
   ]
  },
  {
   "cell_type": "code",
   "execution_count": null,
   "id": "de0ba6c5-050f-453e-8c97-78d171d53950",
   "metadata": {},
   "outputs": [],
   "source": [
    "import plotly.express as px\n",
    "\n",
    "fig = px.box(\n",
    "    data, \n",
    "    x='room_type', \n",
    "    y='price', \n",
    "    color='neighbourhood_group', \n",
    "    color_discrete_map=color_mapping_neighbourhood,\n",
    "    title='Room Type vs Price by Neighborhood',\n",
    "    labels={'room_type': 'Room Type', 'price': 'Price', 'neighbourhood_group': 'Neighborhood Group'}\n",
    ")\n",
    "\n",
    "fig.update_layout(\n",
    "    xaxis_title=\"Room Type\",\n",
    "    yaxis_title=\"Price\",\n",
    "    legend_title=\"Neighborhood Group\"\n",
    ")\n",
    "\n",
    "fig.show()"
   ]
  },
  {
   "cell_type": "markdown",
   "id": "f13afdb6-b65f-41e9-875b-6e0d6234e4a1",
   "metadata": {},
   "source": [
    "## 10. Hypothesis Tests"
   ]
  },
  {
   "cell_type": "markdown",
   "id": "2552e5cf-3d54-456b-841a-1843e71d972a",
   "metadata": {},
   "source": [
    "### A. Is there a difference in prices between homes with and without reviews?"
   ]
  },
  {
   "cell_type": "code",
   "execution_count": null,
   "id": "2adddb93-03fd-469b-836c-69e53e1d5e71",
   "metadata": {},
   "outputs": [],
   "source": [
    "wreview = data[data['with_review']==1]['price']\n",
    "woreview = data[data['with_review']==0]['price']\n",
    "stats.ttest_ind(a=wreview, b=woreview, equal_var=True)"
   ]
  },
  {
   "cell_type": "markdown",
   "id": "faed0a31-7be2-4b1a-be0a-0a624023a959",
   "metadata": {},
   "source": [
    "With a p-value much smaller than 0.05, we can confidently say that there is a difference in prices between homes with and without reviews."
   ]
  },
  {
   "cell_type": "markdown",
   "id": "3a59932c-5c66-45ea-ab6c-e0fe7bf9ca3f",
   "metadata": {},
   "source": [
    "### B. Is there a difference in prices between entire homes/apts and private rooms?"
   ]
  },
  {
   "cell_type": "code",
   "execution_count": null,
   "id": "0ce58504-b5b2-4551-99e5-9e9c98194920",
   "metadata": {},
   "outputs": [],
   "source": [
    "eh = data[data['room_type']=='Entire home/apt']['price']\n",
    "pr = data[data['room_type']=='Private room']['price']\n",
    "stats.ttest_ind(a=eh, b=pr, equal_var=True)"
   ]
  },
  {
   "cell_type": "markdown",
   "id": "d8830693-ae99-474a-b823-d7d4695e7c53",
   "metadata": {},
   "source": [
    "With a p-value much smaller than 0.05, we can confidently say that there is a difference in prices between entire homes/apts and private rooms."
   ]
  },
  {
   "cell_type": "markdown",
   "id": "bff701a1-c984-4daa-b822-cab877212ab2",
   "metadata": {},
   "source": [
    "### C. Is there a difference in prices between private rooms and shared rooms?"
   ]
  },
  {
   "cell_type": "code",
   "execution_count": null,
   "id": "fd32bae0-8fe7-4ed0-af24-e476a7581b05",
   "metadata": {},
   "outputs": [],
   "source": [
    "sr = data[data['room_type']=='Shared room']['price']\n",
    "stats.ttest_ind(a=sr, b=pr, equal_var=True)"
   ]
  },
  {
   "cell_type": "markdown",
   "id": "15d8711c-fb09-4eb4-8d3b-1158769eab85",
   "metadata": {},
   "source": [
    "Similarly, there is a difference in prices between private rooms and shared rooms."
   ]
  },
  {
   "cell_type": "markdown",
   "id": "a2a6a323-c8f8-448b-983e-391d38379a9a",
   "metadata": {},
   "source": [
    "### D. Is there a difference in prices between homes with minimum nights below and above 10?"
   ]
  },
  {
   "cell_type": "code",
   "execution_count": null,
   "id": "63ba258e-ef2b-4cfd-8225-e4de8e67962c",
   "metadata": {},
   "outputs": [],
   "source": [
    "below10 = data[data['minimum_nights']>=10]['price']\n",
    "above10 = data[data['minimum_nights']<10]['price']\n",
    "stats.ttest_ind(a=below10, b=above10, equal_var=True)"
   ]
  },
  {
   "cell_type": "markdown",
   "id": "595980c1-3466-494a-ad40-6186a51e3aa5",
   "metadata": {},
   "source": [
    "With a p-value much smaller than 0.05, we can confidently say that there is a difference in prices between homes with minimum nights below and above 10."
   ]
  },
  {
   "cell_type": "markdown",
   "id": "f3d52c90-e256-4c05-8cd0-b52ada250e6c",
   "metadata": {},
   "source": [
    "### E. Based on the boxplot, Brooklyn and Manhattan have the highest prices. Is there a difference in prices between homes in Brooklyn and Manhattan?"
   ]
  },
  {
   "cell_type": "code",
   "execution_count": null,
   "id": "6023011a-aef7-4dc5-8b07-606a95981dec",
   "metadata": {},
   "outputs": [],
   "source": [
    "brooklyn = data[data['neighbourhood_group']=='Brooklyn']['price']\n",
    "manhattan = data[data['neighbourhood_group']=='Manhattan']['price']\n",
    "stats.ttest_ind(a=brooklyn, b=manhattan, equal_var=True)"
   ]
  },
  {
   "cell_type": "markdown",
   "id": "a777167d-8676-4d57-b116-d98cbd0da25c",
   "metadata": {},
   "source": [
    "With a p-value much smaller than 0.05, we can confidently say that there is a difference in prices between homes in Brooklyn and Manhattan."
   ]
  },
  {
   "cell_type": "markdown",
   "id": "96d14192-d532-43f8-8055-b070eeb5b9ac",
   "metadata": {},
   "source": [
    "### F. Are neighborhood group and room type independent?"
   ]
  },
  {
   "cell_type": "code",
   "execution_count": null,
   "id": "598942b8-d6c0-4c95-a29e-6b5061ea69e7",
   "metadata": {},
   "outputs": [],
   "source": [
    "table=pd.crosstab(data['neighbourhood_group'],data['room_type']) \n",
    "table"
   ]
  },
  {
   "cell_type": "code",
   "execution_count": null,
   "id": "d9e7c695-8c09-42c2-b694-da50b96415ec",
   "metadata": {},
   "outputs": [],
   "source": [
    "chi2, p, dof, expected = stats.chi2_contingency(table.fillna(0))\n",
    "\n",
    "# Print the results\n",
    "print(f\"Chi-square Statistic: {chi2}\")\n",
    "print(f\"p-value: {p}\")\n",
    "print(f\"Degrees of Freedom: {dof}\")\n",
    "print(\"Expected Frequencies:\")\n",
    "print(expected)"
   ]
  },
  {
   "cell_type": "markdown",
   "id": "b578a376-c37d-4b74-89d9-501106a5b4b5",
   "metadata": {},
   "source": [
    "With a p-value much smaller than 0.05, we can confidently say that neighborhood group and room type are dependent."
   ]
  }
 ],
 "metadata": {
  "kernelspec": {
   "display_name": "Python 3 (ipykernel)",
   "language": "python",
   "name": "python3"
  },
  "language_info": {
   "codemirror_mode": {
    "name": "ipython",
    "version": 3
   },
   "file_extension": ".py",
   "mimetype": "text/x-python",
   "name": "python",
   "nbconvert_exporter": "python",
   "pygments_lexer": "ipython3",
   "version": "3.12.2"
  }
 },
 "nbformat": 4,
 "nbformat_minor": 5
}
